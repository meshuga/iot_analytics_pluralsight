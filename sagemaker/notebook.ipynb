{
 "cells": [
  {
   "cell_type": "markdown",
   "metadata": {},
   "source": [
    "<p>\n",
    "    <img src=\"https://s3.amazonaws.com/iotanalytics-templates/Logo.png\" style=\"float:left;width:65px\">\n",
    "    <h1 style=\"float:left;color:#1A5276;padding-left:15px;font-size:20px;\">AWS IoT Analytics | Notebook</h1>\n",
    "</p>\n"
   ]
  },
  {
   "cell_type": "markdown",
   "metadata": {},
   "source": [
    "When loading data from IoT Analytics datasets, the client should be initialized first:"
   ]
  },
  {
   "cell_type": "code",
   "execution_count": null,
   "metadata": {},
   "outputs": [],
   "source": [
    "import boto3\n",
    "\n",
    "# create IoT Analytics client\n",
    "client = boto3.client('iotanalytics')"
   ]
  },
  {
   "cell_type": "markdown",
   "metadata": {
    "collapsed": true
   },
   "source": [
    "Now we can get the data location (URL) for the given dataset and start working with the data (In order to need to perform get_dataset_content, you need to grant iot analytics corresponding IAM permission):"
   ]
  },
  {
   "cell_type": "code",
   "execution_count": null,
   "metadata": {},
   "outputs": [],
   "source": [
    "dataset = \"trucksensordataset\"\n",
    "dataset_url = client.get_dataset_content(datasetName = dataset)['entries'][0]['dataURI']"
   ]
  },
  {
   "cell_type": "code",
   "execution_count": null,
   "metadata": {},
   "outputs": [],
   "source": [
    "import pandas as pd\n",
    "dataset = pd.read_csv(dataset_url)\n",
    "dataset.loc[:,\"temperature\"].mean()"
   ]
  },
  {
   "cell_type": "markdown",
   "metadata": {},
   "source": [
    "<div style=\"height:60px;\"><div style=\"height:7px;background-color:#20B3CD;width:100%;margin-top:20px;position:relative;\"><img src=\"https://s3.amazonaws.com/iotanalytics-templates/Logo.png\" style=\"height:50px;width:50px;margin-top:-20px;position:absolute;margin-left:42%;\"></div></div>"
   ]
  }
 ],
 "metadata": {
  "kernelspec": {
   "display_name": "Containerized conda_python3",
   "language": "python",
   "name": "containerized_conda_python3"
  },
  "language_info": {
   "codemirror_mode": {
    "name": "ipython",
    "version": 3
   },
   "file_extension": ".py",
   "mimetype": "text/x-python",
   "name": "python",
   "nbconvert_exporter": "python",
   "pygments_lexer": "ipython3",
   "version": "3.6.5"
  }
 },
 "nbformat": 4,
 "nbformat_minor": 2
}
